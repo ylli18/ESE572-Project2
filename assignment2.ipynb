{
 "cells": [
  {
   "cell_type": "code",
   "execution_count": 148,
   "metadata": {},
   "outputs": [],
   "source": [
    "import docx\n",
    "import numpy as np\n",
    "import random"
   ]
  },
  {
   "cell_type": "markdown",
   "metadata": {},
   "source": [
    "# Step 1\n",
    "An article about the history of Washington University is given as the information needs\n",
    "to be transmitted. This WU article is in English characters, and your group will convert\n",
    "the contents to binary digits using the ASCII encoding. That is, use the ASCII table and\n",
    "translate this article to a digital file containing several hundreds of 1’s and 0’s."
   ]
  },
  {
   "cell_type": "code",
   "execution_count": 149,
   "metadata": {},
   "outputs": [],
   "source": [
    "# Load the document\n",
    "doc = docx.Document('text.docx')\n",
    "message = []\n",
    "for para in doc.paragraphs:\n",
    "    message.append(para.text)\n",
    "text = '\\n'.join(message)\n",
    "\n",
    "# convert to ASCII\n",
    "bin_digits = ''\n",
    "for char in text:\n",
    "    # handling special character\n",
    "    if char == chr(8212):\n",
    "        char = chr(45)\n",
    "    # attach 8 digits for each char\n",
    "    bin_digits += '0'* (8-len(bin(ord(char))[2:]))\n",
    "    bin_digits += bin(ord(char))[2:]\n",
    "    "
   ]
  },
  {
   "cell_type": "markdown",
   "metadata": {},
   "source": [
    "`bin_digits` is the result after converting the text into binary digits"
   ]
  },
  {
   "cell_type": "markdown",
   "metadata": {},
   "source": [
    "# Step 2\n",
    "These ASCII encoded bits in the WU article are now divided into multiple segments, and\n",
    "each segment can contain a maximum of 200 bits. The last segment may not have all 200\n",
    "bits. Then, a CRC will be calculated for each segment. The CRC function to be used is\n",
    "g(D) = [D16 + D12 + D5 + 1], which will generate a CRC length of 16 bits for each\n",
    "segment. By attaching the 16 CRC bits, a segment becomes a frame and each frame has\n",
    "216 bits (which include 200 bits of segmented data and 16 bits of CRC). (Note: this is a\n",
    "traditional Layer 2 function.)"
   ]
  },
  {
   "cell_type": "code",
   "execution_count": 150,
   "metadata": {},
   "outputs": [],
   "source": [
    "def get_CRC(string):\n",
    "    string = list(string)\n",
    "    if len(string) != 200:\n",
    "        return 'incorrect input length'\n",
    "    \n",
    "    # initialize the dividend\n",
    "    dividend = []\n",
    "    for i in range(len(string)-1, -1, -1):\n",
    "        if string[i] =='1':\n",
    "            dividend.append(i)\n",
    "    \n",
    "    divisor = [16, 12, 5, 1]\n",
    "    \n",
    "    remainder = [199]\n",
    "    while remainder[0] >= 16:\n",
    "        quotient = dividend[0] - divisor[0]\n",
    "        result = np.add(divisor, quotient)\n",
    "        \n",
    "        # get the remainder\n",
    "        remainder = [x for x in dividend if x not in result] + [x for x in result if x not in dividend]\n",
    "        remainder.sort(reverse=True)\n",
    "        \n",
    "        dividend = remainder\n",
    "    \n",
    "    # convert the remainder into 16bits\n",
    "    CRC = []\n",
    "    for i in range(15, -1, -1):\n",
    "        if i in remainder:\n",
    "            CRC.append('1')\n",
    "        else:\n",
    "            CRC.append('0')\n",
    "    \n",
    "    CRC = ''.join(CRC)\n",
    "    return CRC\n",
    "\n",
    "            \n",
    "    "
   ]
  },
  {
   "cell_type": "code",
   "execution_count": 151,
   "metadata": {},
   "outputs": [],
   "source": [
    "i = 0\n",
    "new_bin_digits = ''\n",
    "while 200*i < len(bin_digits):\n",
    "    \n",
    "    # get the CRC\n",
    "    test_string = bin_digits[200*i:(200*(i+1))]\n",
    "    CRC = get_CRC(test_string)\n",
    "\n",
    "    # attach CRC at the end of each 200 digits\n",
    "    new_bin_digits += test_string\n",
    "    new_bin_digits += CRC\n",
    "    i += 1"
   ]
  },
  {
   "cell_type": "markdown",
   "metadata": {},
   "source": [
    "`new_bin_digits` is the result after segementing and attaching CRC"
   ]
  },
  {
   "cell_type": "markdown",
   "metadata": {},
   "source": [
    "# Step 3\n",
    "Instead of transmitting these ASCII-encoded, segmented, and CRC-attached frames, a\n",
    "forward error correction (“FEC”) is first applied to each frame. There are many different\n",
    "types of FEC algorithms, of which the simplest being the repetition coding. (Note: FEC is\n",
    "a traditional layer 1 function.) Suppose that the transmitter needs to send bits 0110101.\n",
    "As an example, the FEC may triplicate each bit to be sent. Using the above example, the\n",
    "bit sequence 0110101 is FEC coded as 000111111000111000111. By sending\n",
    "000111111000111000111, if any one bit is in error, e.g., 000111111000111010111\n",
    "(underscored), the receiver recognizes this error since there has to be three identical bits\n",
    "in a row (either 000 or 111) as each bit is triplicated at the transmitter before sending it\n",
    "over the channel. Then using a simple majority reasoning, the receiver corrects the single\n",
    "error bit such that the received bit sequence becomes 000111111000111000111. Note\n",
    "that if one bit among the three triplicated bits is in error, the receiver can correct it. If,\n",
    "however, two or three bits among the triplicated bits is in error, the receiver cannot\n",
    "correct the errors. After the repetition coding is applied, each frame now contains 648\n",
    "bits."
   ]
  },
  {
   "cell_type": "code",
   "execution_count": 152,
   "metadata": {},
   "outputs": [],
   "source": [
    "bin_digits_FEC = ''\n",
    "for char in new_bin_digits:\n",
    "    bin_digits_FEC += (char*3)"
   ]
  },
  {
   "cell_type": "markdown",
   "metadata": {},
   "source": [
    "`bin_digits_FEC` is the result after FEC"
   ]
  },
  {
   "cell_type": "markdown",
   "metadata": {},
   "source": [
    "# Step 4\n",
    "Now insert framing bits. Use a flag pattern 0160 (i.e., 01111110) as the framing bits.\n",
    "Insert the flag pattern before each FEC coded frame. After the last FEC coded frame, \n",
    "insert another flag. Be sure to bit stuff after any string of five 1s. Now the WU article is\n",
    "ready to be transmitted. The transmitter at the physical layer transmits all of the flags and\n",
    "frames, one bit at a time in a proper sequence."
   ]
  },
  {
   "cell_type": "code",
   "execution_count": 153,
   "metadata": {},
   "outputs": [],
   "source": [
    "def frame_stuff(frame):\n",
    "    \n",
    "    # i tracks the beginning of a serie of 1's\n",
    "    i = 0\n",
    "    while i < len(frame)-4:\n",
    "        if frame[i] == '0':\n",
    "            i += 1\n",
    "        elif frame[i+1] == '0':\n",
    "            i += 2\n",
    "        elif frame[i+2] == '0':\n",
    "            i += 3\n",
    "        elif frame[i+3] == '0':\n",
    "            i += 4\n",
    "        elif frame[i+4] == '0':\n",
    "            i += 5\n",
    "        else:\n",
    "            frame = frame[:(i+5)] + '0' + frame[(i+5):]\n",
    "            i += 6\n",
    "    return frame\n",
    "            \n",
    "        "
   ]
  },
  {
   "cell_type": "code",
   "execution_count": 154,
   "metadata": {},
   "outputs": [],
   "source": [
    "flag = '01111110' \n",
    "bin_digits_stuffed = ''\n",
    "i = 0\n",
    "\n",
    "while 648*i < len(bin_digits_FEC):\n",
    "    frame = bin_digits_FEC[648*i:(648*(i+1))]\n",
    "    frame_stuffed = frame_stuff(frame)\n",
    "    \n",
    "    bin_digits_stuffed += flag\n",
    "    bin_digits_stuffed += frame_stuffed\n",
    "    i += 1\n",
    "    \n",
    "# insert another flag after the last frame\n",
    "bin_digits_stuffed += flag"
   ]
  },
  {
   "cell_type": "markdown",
   "metadata": {},
   "source": [
    "`bin_digits_stuffed` is the result after inserting flags and the stuffing bits"
   ]
  },
  {
   "cell_type": "markdown",
   "metadata": {},
   "source": [
    "# Step 5\n",
    "Assume that the WU article has been transmitted, and the receiver across the channel\n",
    "receives it. Assume that each bit received at the receiver is in error with probability 0.1.\n",
    "This will be done through a simulation based on random number generator. After\n",
    "applying the probability of error to each bit, about 10% of the bits should be in error.\n",
    "Then, correct any error by the FEC algorithm. After the FEC algorithm is applied, check\n",
    "for CRC for each frame. Determine the number of frames that fail the CRC. Repeat this\n",
    "step with bit error probability of 0.01."
   ]
  },
  {
   "cell_type": "code",
   "execution_count": 163,
   "metadata": {},
   "outputs": [],
   "source": [
    "# add the random error\n",
    "for i in range(len(bin_digits_stuffed)):\n",
    "    if random.random() <= 0.1:\n",
    "        if bin_digits_stuffed[i] == '0':\n",
    "            bin_digits_stuffed = bin_digits_stuffed[:i] + '1' + bin_digits_stuffed[(i+1):]\n",
    "        else:\n",
    "            bin_digits_stuffed = bin_digits_stuffed[:i] + '0' + bin_digits_stuffed[(i+1):]\n",
    "            "
   ]
  }
 ],
 "metadata": {
  "kernelspec": {
   "display_name": "Python 3",
   "language": "python",
   "name": "python3"
  },
  "language_info": {
   "codemirror_mode": {
    "name": "ipython",
    "version": 3
   },
   "file_extension": ".py",
   "mimetype": "text/x-python",
   "name": "python",
   "nbconvert_exporter": "python",
   "pygments_lexer": "ipython3",
   "version": "3.10.4"
  }
 },
 "nbformat": 4,
 "nbformat_minor": 2
}
