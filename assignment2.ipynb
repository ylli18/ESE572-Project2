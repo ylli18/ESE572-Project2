{
 "cells": [
  {
   "cell_type": "code",
   "execution_count": 307,
   "metadata": {},
   "outputs": [],
   "source": [
    "import docx\n",
    "import numpy as np"
   ]
  },
  {
   "cell_type": "markdown",
   "metadata": {},
   "source": [
    "# Step 1\n",
    "An article about the history of Washington University is given as the information needs\n",
    "to be transmitted. This WU article is in English characters, and your group will convert\n",
    "the contents to binary digits using the ASCII encoding. That is, use the ASCII table and\n",
    "translate this article to a digital file containing several hundreds of 1’s and 0’s."
   ]
  },
  {
   "cell_type": "code",
   "execution_count": 308,
   "metadata": {},
   "outputs": [],
   "source": [
    "# Load the document\n",
    "doc = docx.Document('text.docx')\n",
    "message = []\n",
    "for para in doc.paragraphs:\n",
    "    message.append(para.text)\n",
    "text = '\\n'.join(message)\n",
    "\n",
    "# convert to ASCII\n",
    "bin_digits = ''\n",
    "for char in text:\n",
    "    # handling special character\n",
    "    if char == chr(8212):\n",
    "        char = chr(45)\n",
    "    # attach 8 digits for each char\n",
    "    bin_digits += '0'* (8-len(bin(ord(char))[2:]))\n",
    "    bin_digits += bin(ord(char))[2:]\n",
    "    "
   ]
  },
  {
   "cell_type": "markdown",
   "metadata": {},
   "source": [
    "`bin_digits` is the result after converting the text into binary digits"
   ]
  },
  {
   "cell_type": "markdown",
   "metadata": {},
   "source": [
    "# Step 2\n",
    "These ASCII encoded bits in the WU article are now divided into multiple segments, and\n",
    "each segment can contain a maximum of 200 bits. The last segment may not have all 200\n",
    "bits. Then, a CRC will be calculated for each segment. The CRC function to be used is\n",
    "g(D) = [D16 + D12 + D5 + 1], which will generate a CRC length of 16 bits for each\n",
    "segment. By attaching the 16 CRC bits, a segment becomes a frame and each frame has\n",
    "216 bits (which include 200 bits of segmented data and 16 bits of CRC). (Note: this is a\n",
    "traditional Layer 2 function.)"
   ]
  },
  {
   "cell_type": "code",
   "execution_count": 309,
   "metadata": {},
   "outputs": [],
   "source": [
    "def get_CRC(string):\n",
    "    string = list(string)\n",
    "    if len(string) != 200:\n",
    "        return 'incorrect input length'\n",
    "    \n",
    "    # initialize the dividend\n",
    "    dividend = []\n",
    "    for i in range(len(string)-1, -1, -1):\n",
    "        if string[i] =='1':\n",
    "            dividend.append(i)\n",
    "    \n",
    "    divisor = [16, 12, 5, 1]\n",
    "    \n",
    "    remainder = [199]\n",
    "    while remainder[0] >= 16:\n",
    "        quotient = dividend[0] - divisor[0]\n",
    "        result = np.add(divisor, quotient)\n",
    "        \n",
    "        # get the remainder\n",
    "        remainder = [x for x in dividend if x not in result] + [x for x in result if x not in dividend]\n",
    "        remainder.sort(reverse=True)\n",
    "        \n",
    "        dividend = remainder\n",
    "    \n",
    "    # convert the remainder into 16bits\n",
    "    CRC = []\n",
    "    for i in range(15, -1, -1):\n",
    "        if i in remainder:\n",
    "            CRC.append('1')\n",
    "        else:\n",
    "            CRC.append('0')\n",
    "    \n",
    "    CRC = ''.join(CRC)\n",
    "    return CRC\n",
    "\n",
    "            \n",
    "    "
   ]
  },
  {
   "cell_type": "code",
   "execution_count": 310,
   "metadata": {},
   "outputs": [],
   "source": [
    "i = 0\n",
    "new_bin_digits = ''\n",
    "while 200*i < len(bin_digits):\n",
    "    \n",
    "    # get the CRC\n",
    "    test_string = bin_digits[200*i:(200*(i+1))]\n",
    "    CRC = get_CRC(test_string)\n",
    "\n",
    "    # attach CRC at the end of each 200 digits\n",
    "    new_bin_digits += test_string\n",
    "    new_bin_digits += CRC\n",
    "    i += 1"
   ]
  },
  {
   "cell_type": "markdown",
   "metadata": {},
   "source": [
    "`new_bin_digits` is the result after segementing and attaching CRC"
   ]
  }
 ],
 "metadata": {
  "kernelspec": {
   "display_name": "Python 3",
   "language": "python",
   "name": "python3"
  },
  "language_info": {
   "codemirror_mode": {
    "name": "ipython",
    "version": 3
   },
   "file_extension": ".py",
   "mimetype": "text/x-python",
   "name": "python",
   "nbconvert_exporter": "python",
   "pygments_lexer": "ipython3",
   "version": "3.10.4"
  }
 },
 "nbformat": 4,
 "nbformat_minor": 2
}
